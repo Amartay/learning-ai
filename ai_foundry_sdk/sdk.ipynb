{
 "cells": [
  {
   "cell_type": "code",
   "execution_count": null,
   "id": "e0ed65ae",
   "metadata": {
    "vscode": {
     "languageId": "plaintext"
    }
   },
   "outputs": [],
   "source": [
    "from azure.identity import DefaultAzureCredential\n",
    "from azure.ai.projects import AIProjectClient\n",
    "\n",
    "try:\n",
    "\n",
    "    # Get project client\n",
    "    project_endpoint = \"https://.....\"\n",
    "    project_client = AIProjectClient(            \n",
    "            credential=DefaultAzureCredential(),\n",
    "            endpoint=project_endpoint,\n",
    "        )\n",
    "\n",
    "    ## List all connections in the project\n",
    "    connections = project_client.connections\n",
    "    print(\"List all connections:\")\n",
    "    for connection in connections.list():\n",
    "        print(f\"{connection.name} ({connection.type})\")\n",
    "\n",
    "except Exception as ex:\n",
    "    print(ex)"
   ]
  }
 ],
 "metadata": {
  "language_info": {
   "name": "python"
  }
 },
 "nbformat": 4,
 "nbformat_minor": 5
}
